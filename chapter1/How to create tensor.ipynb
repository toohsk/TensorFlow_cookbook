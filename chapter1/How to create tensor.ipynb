{
 "cells": [
  {
   "cell_type": "code",
   "execution_count": 1,
   "metadata": {
    "collapsed": true
   },
   "outputs": [],
   "source": [
    "import tensorflow as tf"
   ]
  },
  {
   "cell_type": "code",
   "execution_count": 2,
   "metadata": {
    "collapsed": false
   },
   "outputs": [],
   "source": [
    "from matplotlib import pyplot as plt\n",
    "%matplotlib inline"
   ]
  },
  {
   "cell_type": "markdown",
   "metadata": {},
   "source": [
    "# 固定のテンソルを作成"
   ]
  },
  {
   "cell_type": "code",
   "execution_count": 3,
   "metadata": {
    "collapsed": true
   },
   "outputs": [],
   "source": [
    "row_dim = 2\n",
    "col_dim = 5"
   ]
  },
  {
   "cell_type": "code",
   "execution_count": 4,
   "metadata": {
    "collapsed": false
   },
   "outputs": [
    {
     "name": "stdout",
     "output_type": "stream",
     "text": [
      "[[ 0.  0.  0.  0.  0.]\n",
      " [ 0.  0.  0.  0.  0.]]\n"
     ]
    }
   ],
   "source": [
    "zero_tsr = tf.zeros([row_dim, col_dim])\n",
    "\n",
    "with tf.Session() as sess:\n",
    "    print(\"%s\" % sess.run(zero_tsr))"
   ]
  },
  {
   "cell_type": "code",
   "execution_count": 5,
   "metadata": {
    "collapsed": false
   },
   "outputs": [
    {
     "name": "stdout",
     "output_type": "stream",
     "text": [
      "[[ 1.  1.  1.  1.  1.]\n",
      " [ 1.  1.  1.  1.  1.]]\n"
     ]
    }
   ],
   "source": [
    "ones_tsr = tf.ones([row_dim, col_dim])\n",
    "\n",
    "with tf.Session() as sess:\n",
    "    print(\"%s\" % sess.run(ones_tsr))"
   ]
  },
  {
   "cell_type": "code",
   "execution_count": 6,
   "metadata": {
    "collapsed": false
   },
   "outputs": [
    {
     "name": "stdout",
     "output_type": "stream",
     "text": [
      "[[42 42 42 42 42]\n",
      " [42 42 42 42 42]]\n"
     ]
    }
   ],
   "source": [
    "# 定数で埋められたテンソルを作成\n",
    "filled_tsr = tf.fill([row_dim, col_dim], 42)\n",
    "\n",
    "with tf.Session() as sess:\n",
    "    print(\"%s\" % sess.run(filled_tsr))"
   ]
  },
  {
   "cell_type": "code",
   "execution_count": 7,
   "metadata": {
    "collapsed": false
   },
   "outputs": [
    {
     "name": "stdout",
     "output_type": "stream",
     "text": [
      "[1 2 3]\n"
     ]
    }
   ],
   "source": [
    "# 既存の定数からテンソルを作成する\n",
    "const_tsr = tf.constant([1,2,3])\n",
    "\n",
    "with tf.Session() as sess:\n",
    "    print(\"%s\" % sess.run(const_tsr))"
   ]
  },
  {
   "cell_type": "code",
   "execution_count": 8,
   "metadata": {
    "collapsed": false
   },
   "outputs": [
    {
     "name": "stdout",
     "output_type": "stream",
     "text": [
      "[[1 2 3]\n",
      " [9 8 7]]\n"
     ]
    }
   ],
   "source": [
    "# 既存の定数からテンソルを作成する\n",
    "# 行列（2重配列）の場合\n",
    "const_tsr = tf.constant([[1,2,3],[9,8,7]])\n",
    "\n",
    "with tf.Session() as sess:\n",
    "    print(\"%s\" % sess.run(const_tsr))"
   ]
  },
  {
   "cell_type": "markdown",
   "metadata": {},
   "source": [
    "# 同じような形状を持つテンソルの作成"
   ]
  },
  {
   "cell_type": "code",
   "execution_count": 9,
   "metadata": {
    "collapsed": false
   },
   "outputs": [
    {
     "name": "stdout",
     "output_type": "stream",
     "text": [
      "zeros_similar: [[0 0 0]\n",
      " [0 0 0]]\n",
      "ones_similar : [[1 1 1]\n",
      " [1 1 1]]\n"
     ]
    }
   ],
   "source": [
    "zeros_similar = tf.zeros_like(const_tsr)\n",
    "ones_similar  = tf.ones_like(const_tsr)\n",
    "\n",
    "# shape=(2,3) の行列が作成される\n",
    "with tf.Session() as sess:\n",
    "    print(\"zeros_similar: %s\" % sess.run(zeros_similar))\n",
    "    print(\"ones_similar : %s\" % sess.run(ones_similar))"
   ]
  },
  {
   "cell_type": "markdown",
   "metadata": {},
   "source": [
    "# シーケンステンソルの作成"
   ]
  },
  {
   "cell_type": "code",
   "execution_count": 10,
   "metadata": {
    "collapsed": false
   },
   "outputs": [
    {
     "name": "stdout",
     "output_type": "stream",
     "text": [
      "[ 0.   0.5  1. ]\n"
     ]
    }
   ],
   "source": [
    "# 分割が少数になる場合、start と stop は float で指定する\n",
    "# linear_tsr = tf.linspace(start=0, stop=1, num=3)\n",
    "linear_tsr = tf.linspace(start=0.0, stop=1.0, num=3)\n",
    "\n",
    "with tf.Session() as sess:\n",
    "    print(\"%s\" % sess.run(linear_tsr))"
   ]
  },
  {
   "cell_type": "code",
   "execution_count": 11,
   "metadata": {
    "collapsed": false
   },
   "outputs": [
    {
     "name": "stdout",
     "output_type": "stream",
     "text": [
      "[ 6  9 12]\n"
     ]
    }
   ],
   "source": [
    "# 開始点から limit まで（limitは含まない）ところまで delta 間隔で値が含まれる\n",
    "integer_seq_str = tf.range(start=6, limit=15, delta=3)\n",
    "\n",
    "with tf.Session() as sess:\n",
    "    print(\"%s\" % sess.run(integer_seq_str))"
   ]
  },
  {
   "cell_type": "code",
   "execution_count": 12,
   "metadata": {
    "collapsed": false
   },
   "outputs": [
    {
     "name": "stdout",
     "output_type": "stream",
     "text": [
      "[  6.   9.  12.]\n"
     ]
    }
   ],
   "source": [
    "# float の場合,  float として格納される\n",
    "float_seq_str = tf.range(start=6.0, limit=15, delta=3)\n",
    "\n",
    "with tf.Session() as sess:\n",
    "    print(\"%s\" % sess.run(float_seq_str))"
   ]
  },
  {
   "cell_type": "markdown",
   "metadata": {},
   "source": [
    "# ランダム値のテンソル"
   ]
  },
  {
   "cell_type": "code",
   "execution_count": 13,
   "metadata": {
    "collapsed": false
   },
   "outputs": [
    {
     "name": "stdout",
     "output_type": "stream",
     "text": [
      "[[ 0.26150084  0.72893822  0.21743333  0.02496469  0.78801644]\n",
      " [ 0.51120317  0.76764429  0.72223759  0.48551702  0.90357339]]\n"
     ]
    }
   ],
   "source": [
    "# 一様分布に基づくテンソル\n",
    "randunif_tsr = tf.random_uniform([row_dim,col_dim], minval=0, maxval=1)\n",
    "\n",
    "with tf.Session() as sess:\n",
    "    print(\"%s\" % sess.run(randunif_tsr))"
   ]
  },
  {
   "cell_type": "code",
   "execution_count": 14,
   "metadata": {
    "collapsed": false
   },
   "outputs": [
    {
     "name": "stdout",
     "output_type": "stream",
     "text": [
      "[[ 0.50891101  0.64411926  0.94201386  0.82610905  0.30802953]\n",
      " [ 0.91134489  0.28517675  0.85159135  0.30066884  0.2767545 ]]\n"
     ]
    }
   ],
   "source": [
    "# 正規分布に基づくテンソル\n",
    "randnorm_tsr = tf.random_normal([row_dim,col_dim], mean=0.0, stddev=1.0)\n",
    "\n",
    "with tf.Session() as sess:\n",
    "    print(\"%s\" % sess.run(randunif_tsr))"
   ]
  },
  {
   "cell_type": "code",
   "execution_count": 15,
   "metadata": {
    "collapsed": false
   },
   "outputs": [
    {
     "name": "stdout",
     "output_type": "stream",
     "text": [
      "[[-0.11137658 -0.16188642 -0.38960144  1.78575468  0.37301728]\n",
      " [-0.31619367 -0.7799964   1.97843409  0.77727425 -1.00114787]]\n"
     ]
    }
   ],
   "source": [
    "# 正規分布に区間を設定する\n",
    "# 指定された平均から標準偏差の2倍までの正規分布から値を選ぶ\n",
    "truncnorm_tsr = tf.truncated_normal([row_dim,col_dim], mean=0.0, stddev=1.0)\n",
    "\n",
    "with tf.Session() as sess:\n",
    "    print(\"%s\" % sess.run(truncnorm_tsr))"
   ]
  },
  {
   "cell_type": "markdown",
   "metadata": {},
   "source": [
    "# それぞれの分布をグラフで確認する"
   ]
  },
  {
   "cell_type": "code",
   "execution_count": 16,
   "metadata": {
    "collapsed": false
   },
   "outputs": [
    {
     "name": "stderr",
     "output_type": "stream",
     "text": [
      "/Users/atsushi/.anyenv/envs/pyenv/versions/anaconda3-4.2.0/lib/python3.5/site-packages/matplotlib/figure.py:397: UserWarning: matplotlib is currently using a non-GUI backend, so cannot show the figure\n",
      "  \"matplotlib is currently using a non-GUI backend, \"\n"
     ]
    },
    {
     "data": {
      "image/png": "[encoded data removed]",
      "text/plain": [
       "<matplotlib.figure.Figure at 0x10d508160>"
      ]
     },
     "metadata": {},
     "output_type": "display_data"
    }
   ],
   "source": [
    "randunif_tsr = tf.random_uniform([10000], minval=-3, maxval=3)\n",
    "randnorm_tsr = tf.random_normal([10000], mean=0.0, stddev=1.0)\n",
    "truncnorm_tsr = tf.truncated_normal([10000], mean=0.0, stddev=1.0)\n",
    "\n",
    "with tf.Session() as sess:\n",
    "    fig, (axL, axC, axR) = plt.subplots(ncols=3, figsize=(10,4))\n",
    "    axL.hist(sess.run(randunif_tsr), bins=100)\n",
    "    axC.hist(sess.run(randnorm_tsr), bins=100)\n",
    "    axR.hist(sess.run(truncnorm_tsr), bins=100)\n",
    "    fig.show()"
   ]
  },
  {
   "cell_type": "code",
   "execution_count": null,
   "metadata": {
    "collapsed": true
   },
   "outputs": [],
   "source": []
  }
 ],
 "metadata": {
  "anaconda-cloud": {},
  "kernelspec": {
   "display_name": "Python [default]",
   "language": "python",
   "name": "python3"
  },
  "language_info": {
   "codemirror_mode": {
    "name": "ipython",
    "version": 3
   },
   "file_extension": ".py",
   "mimetype": "text/x-python",
   "name": "python",
   "nbconvert_exporter": "python",
   "pygments_lexer": "ipython3",
   "version": "3.5.2"
  }
 },
 "nbformat": 4,
 "nbformat_minor": 1
}
