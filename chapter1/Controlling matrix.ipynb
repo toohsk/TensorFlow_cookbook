{
 "cells": [
  {
   "cell_type": "code",
   "execution_count": 1,
   "metadata": {
    "collapsed": true
   },
   "outputs": [],
   "source": [
    "import numpy as np\n",
    "import tensorflow as tf"
   ]
  },
  {
   "cell_type": "code",
   "execution_count": 2,
   "metadata": {
    "collapsed": true
   },
   "outputs": [],
   "source": [
    "sess = tf.Session()"
   ]
  },
  {
   "cell_type": "code",
   "execution_count": 6,
   "metadata": {
    "collapsed": false
   },
   "outputs": [
    {
     "name": "stdout",
     "output_type": "stream",
     "text": [
      "[[ 1.  0.  0.]\n",
      " [ 0.  1.  0.]\n",
      " [ 0.  0.  1.]]\n",
      "[[ 0.81793803  0.14026143 -0.5221256 ]\n",
      " [ 0.54047596  0.32200354 -1.91863704]]\n",
      "[[ 5.  5.  5.]\n",
      " [ 5.  5.  5.]]\n",
      "[[ 0.71715319  0.54948401]\n",
      " [ 0.22132802  0.98632121]\n",
      " [ 0.59904301  0.1972127 ]]\n",
      "[[ 0.56647182  0.28676152]\n",
      " [ 0.63380563  0.46999168]\n",
      " [ 0.25952923  0.18393302]]\n"
     ]
    }
   ],
   "source": [
    "# 行列の作成\n",
    "# diag() を使って対角行列を作成する\n",
    "identity_matrix = tf.diag([1., 1., 1.])\n",
    "\n",
    "A = tf.truncated_normal([2,3])\n",
    "B = tf.fill([2,3], 5.0)\n",
    "C = tf.random_uniform([3,2])\n",
    "D = tf.convert_to_tensor(np.array(\n",
    "        [[1., 2., 3.], [-3., -7., -1.], [0., 5., -2.]]))\n",
    "\n",
    "print(sess.run(identity_matrix))\n",
    "print(sess.run(A))\n",
    "print(sess.run(B))\n",
    "print(sess.run(C))\n",
    "print(sess.run(C))"
   ]
  },
  {
   "cell_type": "code",
   "execution_count": 9,
   "metadata": {
    "collapsed": false
   },
   "outputs": [
    {
     "name": "stdout",
     "output_type": "stream",
     "text": [
      "[[ 5.00110579  5.73777151  4.1363349 ]\n",
      " [ 4.88877535  3.34225225  6.88383532]]\n",
      "[[ 0.  0.  0.]\n",
      " [ 0.  0.  0.]]\n"
     ]
    }
   ],
   "source": [
    "# 行列の加算、減算\n",
    "print(sess.run(A+B))\n",
    "\n",
    "print(sess.run(B-B))"
   ]
  },
  {
   "cell_type": "code",
   "execution_count": 12,
   "metadata": {
    "collapsed": false
   },
   "outputs": [
    {
     "name": "stdout",
     "output_type": "stream",
     "text": [
      "[[ 5.  5.  5.]\n",
      " [ 5.  5.  5.]]\n",
      "[[ 5.  5.]\n",
      " [ 5.  5.]\n",
      " [ 5.  5.]]\n"
     ]
    }
   ],
   "source": [
    "# 行列の乗算\n",
    "print(sess.run(tf.matmul(B, identity_matrix)))\n",
    "\n",
    "# 転置の場合、transposeを使う\n",
    "print(sess.run(tf.matmul(identity_matrix, B, transpose_a=True, transpose_b=True)))"
   ]
  },
  {
   "cell_type": "code",
   "execution_count": 14,
   "metadata": {
    "collapsed": false
   },
   "outputs": [
    {
     "name": "stdout",
     "output_type": "stream",
     "text": [
      "[[ 5.  5.]\n",
      " [ 5.  5.]\n",
      " [ 5.  5.]]\n"
     ]
    }
   ],
   "source": [
    "# 転置用の関数もある\n",
    "print(sess.run(tf.transpose(B)))"
   ]
  },
  {
   "cell_type": "code",
   "execution_count": 15,
   "metadata": {
    "collapsed": false
   },
   "outputs": [
    {
     "name": "stdout",
     "output_type": "stream",
     "text": [
      "-38.0\n"
     ]
    }
   ],
   "source": [
    "# 行列式\n",
    "print(sess.run(tf.matrix_determinant(D)))"
   ]
  },
  {
   "cell_type": "code",
   "execution_count": 16,
   "metadata": {
    "collapsed": false
   },
   "outputs": [
    {
     "name": "stdout",
     "output_type": "stream",
     "text": [
      "[[-0.5        -0.5        -0.5       ]\n",
      " [ 0.15789474  0.05263158  0.21052632]\n",
      " [ 0.39473684  0.13157895  0.02631579]]\n"
     ]
    }
   ],
   "source": [
    "# 逆行列式\n",
    "print(sess.run(tf.matrix_inverse(D)))"
   ]
  },
  {
   "cell_type": "code",
   "execution_count": 18,
   "metadata": {
    "collapsed": false
   },
   "outputs": [
    {
     "name": "stdout",
     "output_type": "stream",
     "text": [
      "[[ 1.  0.  0.]\n",
      " [ 0.  1.  0.]\n",
      " [ 0.  0.  1.]]\n"
     ]
    }
   ],
   "source": [
    "# コレスキー分解\n",
    "print(sess.run(tf.cholesky(identity_matrix)))"
   ]
  },
  {
   "cell_type": "code",
   "execution_count": 19,
   "metadata": {
    "collapsed": false
   },
   "outputs": [
    {
     "name": "stdout",
     "output_type": "stream",
     "text": [
      "[-10.65907521  -0.22750691   2.88658212]\n",
      "[[ 0.21749542  0.63250104 -0.74339638]\n",
      " [ 0.84526515  0.2587998   0.46749277]\n",
      " [-0.4880805   0.73004459  0.47834331]]\n"
     ]
    }
   ],
   "source": [
    "# 固有値と固有ベクトル\n",
    "eigenvalues, eigenvectors = sess.run(tf.self_adjoint_eig(D))\n",
    "print(eigenvalues)\n",
    "print(eigenvectors)"
   ]
  },
  {
   "cell_type": "code",
   "execution_count": null,
   "metadata": {
    "collapsed": true
   },
   "outputs": [],
   "source": []
  }
 ],
 "metadata": {
  "kernelspec": {
   "display_name": "Python [default]",
   "language": "python",
   "name": "python3"
  },
  "language_info": {
   "codemirror_mode": {
    "name": "ipython",
    "version": 3
   },
   "file_extension": ".py",
   "mimetype": "text/x-python",
   "name": "python",
   "nbconvert_exporter": "python",
   "pygments_lexer": "ipython3",
   "version": "3.5.2"
  }
 },
 "nbformat": 4,
 "nbformat_minor": 1
}
