{
 "cells": [
  {
   "cell_type": "code",
   "execution_count": 1,
   "metadata": {
    "collapsed": true
   },
   "outputs": [],
   "source": [
    "import tensorflow as tf"
   ]
  },
  {
   "cell_type": "code",
   "execution_count": 2,
   "metadata": {
    "collapsed": true
   },
   "outputs": [],
   "source": [
    "sess = tf.Session()"
   ]
  },
  {
   "cell_type": "code",
   "execution_count": 3,
   "metadata": {
    "collapsed": true
   },
   "outputs": [],
   "source": [
    "a = tf.Variable(tf.constant(4.))\n",
    "x_val = 5.\n",
    "x_data = tf.placeholder(dtype=tf.float32)"
   ]
  },
  {
   "cell_type": "code",
   "execution_count": 4,
   "metadata": {
    "collapsed": true
   },
   "outputs": [],
   "source": [
    "multiplication = tf.multiply(a, x_data)"
   ]
  },
  {
   "cell_type": "code",
   "execution_count": 5,
   "metadata": {
    "collapsed": true
   },
   "outputs": [],
   "source": [
    "loss = tf.square(tf.subtract(multiplication, 50.))"
   ]
  },
  {
   "cell_type": "code",
   "execution_count": 6,
   "metadata": {
    "collapsed": true
   },
   "outputs": [],
   "source": [
    "init = tf.global_variables_initializer()\n",
    "sess.run(init)"
   ]
  },
  {
   "cell_type": "code",
   "execution_count": 7,
   "metadata": {
    "collapsed": true
   },
   "outputs": [],
   "source": [
    "my_opt = tf.train.GradientDescentOptimizer(0.01)\n",
    "train_step = my_opt.minimize(loss)"
   ]
  },
  {
   "cell_type": "code",
   "execution_count": 8,
   "metadata": {
    "collapsed": false
   },
   "outputs": [
    {
     "name": "stdout",
     "output_type": "stream",
     "text": [
      "Optimizing a Multiplication Gate Output to 50.\n",
      "7.0 * 5.0 = 35.0\n",
      "8.5 * 5.0 = 42.5\n",
      "9.25 * 5.0 = 46.25\n",
      "9.625 * 5.0 = 48.125\n",
      "9.8125 * 5.0 = 49.0625\n",
      "9.90625 * 5.0 = 49.53125\n",
      "9.953125 * 5.0 = 49.765625\n",
      "9.9765625 * 5.0 = 49.8828125\n",
      "9.98828125 * 5.0 = 49.94140625\n",
      "9.994140625 * 5.0 = 49.970703125\n",
      "9.9970703125 * 5.0 = 49.9853515625\n",
      "9.99853515625 * 5.0 = 49.99267578125\n",
      "9.999267578125 * 5.0 = 49.996337890625\n",
      "9.9996337890625 * 5.0 = 49.9981689453125\n",
      "9.99981689453125 * 5.0 = 49.99908447265625\n",
      "9.999908447265625 * 5.0 = 49.999542236328125\n",
      "9.999954223632812 * 5.0 = 49.99977111816406\n",
      "9.999977111816406 * 5.0 = 49.99988555908203\n",
      "9.999988555908203 * 5.0 = 49.999942779541016\n",
      "9.999994277954102 * 5.0 = 49.999969482421875\n"
     ]
    }
   ],
   "source": [
    "print('Optimizing a Multiplication Gate Output to 50.')\n",
    "\n",
    "for i in range(20):\n",
    "    fd = {\n",
    "        x_data: x_val,\n",
    "    }\n",
    "    sess.run(train_step, feed_dict=fd)\n",
    "    \n",
    "    a_val = sess.run(a)\n",
    "    mult_output = sess.run(multiplication, feed_dict=fd)\n",
    "    \n",
    "    print(\"{} * {} = {}\".format(a_val, x_val, mult_output))"
   ]
  },
  {
   "cell_type": "code",
   "execution_count": 9,
   "metadata": {
    "collapsed": true
   },
   "outputs": [],
   "source": [
    "from tensorflow.python.framework import ops"
   ]
  },
  {
   "cell_type": "code",
   "execution_count": 10,
   "metadata": {
    "collapsed": true
   },
   "outputs": [],
   "source": [
    "ops.reset_default_graph()"
   ]
  },
  {
   "cell_type": "code",
   "execution_count": 11,
   "metadata": {
    "collapsed": true
   },
   "outputs": [],
   "source": [
    "sess = tf.Session()\n",
    "\n",
    "a = tf.Variable(tf.constant(1.))\n",
    "b = tf.Variable(tf.constant(1.))\n",
    "x_val = 5.\n",
    "x_data = tf.placeholder(dtype=tf.float32)\n",
    "\n",
    "# f(x) = a*x + b \n",
    "two_gate = tf.add(tf.multiply(a, x_data), b)\n",
    "\n",
    "loss = tf.square(tf.subtract(two_gate, 50.))\n",
    "\n",
    "init = tf.global_variables_initializer()\n",
    "sess.run(init)\n",
    "\n",
    "my_opt = tf.train.GradientDescentOptimizer(0.01)\n",
    "train_step = my_opt.minimize(loss)"
   ]
  },
  {
   "cell_type": "code",
   "execution_count": 12,
   "metadata": {
    "collapsed": false
   },
   "outputs": [
    {
     "name": "stdout",
     "output_type": "stream",
     "text": [
      "Optimizing Two Gate Output to 50.\n",
      "5.400000095367432 * 5.0 + 1.8799999952316284 = 28.8799991607666\n",
      "7.51200008392334 * 5.0 + 2.3024001121520996 = 39.86240005493164\n",
      "8.52575969696045 * 5.0 + 2.5051522254943848 = 45.13395309448242\n",
      "9.012364387512207 * 5.0 + 2.602473258972168 = 47.6642951965332\n",
      "9.24593448638916 * 5.0 + 2.6491873264312744 = 48.87886047363281\n",
      "9.358048439025879 * 5.0 + 2.671610116958618 = 49.46185302734375\n",
      "9.411863327026367 * 5.0 + 2.682373046875 = 49.74169158935547\n",
      "9.437694549560547 * 5.0 + 2.6875391006469727 = 49.87601089477539\n",
      "9.450093269348145 * 5.0 + 2.690018892288208 = 49.94048309326172\n",
      "9.456045150756836 * 5.0 + 2.691209316253662 = 49.971435546875\n",
      "9.458901405334473 * 5.0 + 2.6917805671691895 = 49.98628616333008\n",
      "9.460272789001465 * 5.0 + 2.6920547485351562 = 49.9934196472168\n",
      "9.460930824279785 * 5.0 + 2.6921863555908203 = 49.99684143066406\n",
      "9.461246490478516 * 5.0 + 2.6922495365142822 = 49.99848175048828\n",
      "9.461398124694824 * 5.0 + 2.692279815673828 = 49.999271392822266\n",
      "9.461470603942871 * 5.0 + 2.6922943592071533 = 49.99964904785156\n",
      "9.461505889892578 * 5.0 + 2.6923012733459473 = 49.99983215332031\n",
      "9.461523056030273 * 5.0 + 2.6923046112060547 = 49.99992370605469\n",
      "9.461530685424805 * 5.0 + 2.6923060417175293 = 49.999961853027344\n",
      "9.46153450012207 * 5.0 + 2.6923067569732666 = 49.999977111816406\n"
     ]
    }
   ],
   "source": [
    "print('Optimizing Two Gate Output to 50.')\n",
    "\n",
    "for i in range(20):\n",
    "    fd = {\n",
    "        x_data: x_val,\n",
    "    }\n",
    "    sess.run(train_step, feed_dict=fd)\n",
    "    \n",
    "    a_val, b_val = (sess.run(a), sess.run(b))\n",
    "    two_gate_output = sess.run(two_gate, feed_dict=fd)\n",
    "    print('{} * {} + {} = {}'.format(a_val, x_val, b_val, two_gate_output))"
   ]
  },
  {
   "cell_type": "code",
   "execution_count": null,
   "metadata": {
    "collapsed": true
   },
   "outputs": [],
   "source": []
  }
 ],
 "metadata": {
  "anaconda-cloud": {},
  "kernelspec": {
   "display_name": "Python [default]",
   "language": "python",
   "name": "python3"
  },
  "language_info": {
   "codemirror_mode": {
    "name": "ipython",
    "version": 3
   },
   "file_extension": ".py",
   "mimetype": "text/x-python",
   "name": "python",
   "nbconvert_exporter": "python",
   "pygments_lexer": "ipython3",
   "version": "3.5.2"
  }
 },
 "nbformat": 4,
 "nbformat_minor": 1
}
