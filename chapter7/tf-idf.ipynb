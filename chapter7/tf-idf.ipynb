{
 "cells": [
  {
   "cell_type": "code",
   "execution_count": 1,
   "metadata": {},
   "outputs": [
    {
     "name": "stderr",
     "output_type": "stream",
     "text": [
      "/Users/atsushi.hara/.anyenv/envs/pyenv/versions/anaconda3-5.0.1/lib/python3.6/importlib/_bootstrap.py:219: RuntimeWarning: compiletime version 3.5 of module 'tensorflow.python.framework.fast_tensor_util' does not match runtime version 3.6\n",
      "  return f(*args, **kwds)\n",
      "/Users/atsushi.hara/.anyenv/envs/pyenv/versions/anaconda3-5.0.1/lib/python3.6/site-packages/h5py/__init__.py:34: FutureWarning: Conversion of the second argument of issubdtype from `float` to `np.floating` is deprecated. In future, it will be treated as `np.float64 == np.dtype(float).type`.\n",
      "  from ._conv import register_converters as _register_converters\n"
     ]
    }
   ],
   "source": [
    "import tensorflow as tf\n",
    "import matplotlib.pyplot as plt\n",
    "import csv\n",
    "import numpy as np\n",
    "import os\n",
    "import string\n",
    "import requests\n",
    "import io\n",
    "import nltk\n",
    "\n",
    "from zipfile import ZipFile\n",
    "from sklearn.feature_extraction.text import TfidfVectorizer"
   ]
  },
  {
   "cell_type": "code",
   "execution_count": 2,
   "metadata": {},
   "outputs": [],
   "source": [
    "sess = tf.Session()"
   ]
  },
  {
   "cell_type": "code",
   "execution_count": 3,
   "metadata": {},
   "outputs": [],
   "source": [
    "batch_size = 200\n",
    "max_features = 1000"
   ]
  },
  {
   "cell_type": "markdown",
   "metadata": {},
   "source": [
    "# Data formatting"
   ]
  },
  {
   "cell_type": "code",
   "execution_count": 4,
   "metadata": {},
   "outputs": [],
   "source": [
    "save_file_name = 'temp_spam_data.csv'\n",
    "\n",
    "if os.path.isfile(save_file_name):\n",
    "    text_data = []\n",
    "    with open(save_file_name, 'r') as temp_output_file:\n",
    "        reader = csv.reader(temp_output_file)\n",
    "        for row in reader:\n",
    "            text_data.append(row)\n",
    "else:\n",
    "    zip_url = 'http://archive.ics.uci.edu/ml/machine-learning-databases/' \\\n",
    "              '00228/smsspamcollection.zip'\n",
    "    r = requests.get(zip_url)\n",
    "    z = ZipFile(io.BytesIO(r.content))\n",
    "    file = z.read('SMSSpamCollection')\n",
    "    text_data = file.decode()\n",
    "    text_data = text_data.encode('ascii', errors='ignore')\n",
    "    text_data = text_data.decode().split('\\n')\n",
    "    text_data = [x.split('\\t') for x in text_data if len(x)>=1]\n",
    "    \n",
    "    with open(save_file_name, 'w') as temp_output_file:\n",
    "        writer = csv.writer(temp_output_file)\n",
    "        writer.writerows(text_data)\n",
    "        \n",
    "texts = [x[1] for x in text_data]\n",
    "target = [x[0] for x in text_data]"
   ]
  },
  {
   "cell_type": "code",
   "execution_count": 5,
   "metadata": {},
   "outputs": [],
   "source": [
    "# Convert 'spam' label to 1, and 'ham' label to 0\n",
    "target = [1. if x=='spam' else 0. for x in target]"
   ]
  },
  {
   "cell_type": "code",
   "execution_count": 6,
   "metadata": {},
   "outputs": [],
   "source": [
    "# Normalize text data\n",
    "texts = [x.lower() for x in texts]\n",
    "texts = [''.join(c for c in x if c not in string.punctuation) for x in texts]\n",
    "texts = [''.join(c for c in x if c not in '0123456789') for x in texts]\n",
    "texts = [' '.join(x.split()) for x in texts]"
   ]
  },
  {
   "cell_type": "markdown",
   "metadata": {},
   "source": [
    "# Creating features"
   ]
  },
  {
   "cell_type": "code",
   "execution_count": 7,
   "metadata": {},
   "outputs": [],
   "source": [
    "def tokenizer(text):\n",
    "    words = nltk.word_tokenize(text)\n",
    "    return words\n",
    "\n",
    "tfidf = TfidfVectorizer(tokenizer=tokenizer, stop_words='english', max_features=max_features)\n",
    "sparse_tfidf_texts = tfidf.fit_transform(texts)\n",
    "\n",
    "# if you had a Lookup Error in this cell, maybe that occurs because you don't have corpus for nltk.\n",
    "# Execute below download code.\n",
    "# nltk.download()"
   ]
  },
  {
   "cell_type": "code",
   "execution_count": 8,
   "metadata": {},
   "outputs": [],
   "source": [
    "train_indices = np.random.choice(sparse_tfidf_texts.shape[0],\n",
    "                                 round(0.8*sparse_tfidf_texts.shape[0]),\n",
    "                                 replace=False)\n",
    "test_indices = np.array(list(set(range(sparse_tfidf_texts.shape[0])) -\n",
    "                             set(train_indices)))\n",
    "\n",
    "texts_train = sparse_tfidf_texts[train_indices]\n",
    "texts_test = sparse_tfidf_texts[test_indices]\n",
    "target_train = np.array([x for ix, x in enumerate(target) if ix in train_indices])\n",
    "target_test = np.array([x for ix, x in enumerate(target) if ix in test_indices])"
   ]
  },
  {
   "cell_type": "markdown",
   "metadata": {},
   "source": [
    "# Modeling"
   ]
  },
  {
   "cell_type": "code",
   "execution_count": 9,
   "metadata": {},
   "outputs": [],
   "source": [
    "A = tf.Variable(tf.random_normal(shape=[max_features, 1]))\n",
    "B = tf.Variable(tf.random_normal(shape=[1,1]))\n",
    "\n",
    "x_data = tf.placeholder(shape=[None, max_features], dtype=tf.float32)\n",
    "y_target = tf.placeholder(shape=[None, 1], dtype=tf.float32)"
   ]
  },
  {
   "cell_type": "code",
   "execution_count": 10,
   "metadata": {},
   "outputs": [],
   "source": [
    "model_output = tf.add(tf.matmul(x_data, A), B)\n",
    "loss = tf.reduce_mean(tf.nn.sigmoid_cross_entropy_with_logits(logits=model_output, labels=y_target))"
   ]
  },
  {
   "cell_type": "code",
   "execution_count": 11,
   "metadata": {},
   "outputs": [],
   "source": [
    "prediction = tf.round(tf.sigmoid(model_output))\n",
    "predictions_correct = tf.cast(tf.equal(prediction, y_target), tf.float32)\n",
    "accuracy = tf.reduce_mean(predictions_correct)"
   ]
  },
  {
   "cell_type": "code",
   "execution_count": 12,
   "metadata": {},
   "outputs": [],
   "source": [
    "opt = tf.train.GradientDescentOptimizer(0.0025)\n",
    "train_step = opt.minimize(loss)\n",
    "\n",
    "init = tf.global_variables_initializer()\n",
    "sess.run(init)"
   ]
  },
  {
   "cell_type": "code",
   "execution_count": 13,
   "metadata": {},
   "outputs": [
    {
     "name": "stdout",
     "output_type": "stream",
     "text": [
      "Generation # 500. Train Loss (Test Loss): 1.72 (1.81). Train Acc (Test Acc): 0.22 (0.16)\n",
      "Generation # 1000. Train Loss (Test Loss): 1.29 (1.30). Train Acc (Test Acc): 0.24 (0.25)\n",
      "Generation # 1500. Train Loss (Test Loss): 0.99 (0.97). Train Acc (Test Acc): 0.34 (0.37)\n",
      "Generation # 2000. Train Loss (Test Loss): 0.77 (0.77). Train Acc (Test Acc): 0.54 (0.53)\n",
      "Generation # 2500. Train Loss (Test Loss): 0.69 (0.66). Train Acc (Test Acc): 0.62 (0.63)\n",
      "Generation # 3000. Train Loss (Test Loss): 0.54 (0.59). Train Acc (Test Acc): 0.77 (0.71)\n",
      "Generation # 3500. Train Loss (Test Loss): 0.47 (0.55). Train Acc (Test Acc): 0.78 (0.75)\n",
      "Generation # 4000. Train Loss (Test Loss): 0.47 (0.52). Train Acc (Test Acc): 0.79 (0.78)\n",
      "Generation # 4500. Train Loss (Test Loss): 0.49 (0.50). Train Acc (Test Acc): 0.82 (0.79)\n",
      "Generation # 5000. Train Loss (Test Loss): 0.46 (0.49). Train Acc (Test Acc): 0.84 (0.80)\n",
      "Generation # 5500. Train Loss (Test Loss): 0.52 (0.48). Train Acc (Test Acc): 0.80 (0.81)\n",
      "Generation # 6000. Train Loss (Test Loss): 0.37 (0.48). Train Acc (Test Acc): 0.87 (0.81)\n",
      "Generation # 6500. Train Loss (Test Loss): 0.54 (0.48). Train Acc (Test Acc): 0.82 (0.82)\n",
      "Generation # 7000. Train Loss (Test Loss): 0.43 (0.47). Train Acc (Test Acc): 0.88 (0.82)\n",
      "Generation # 7500. Train Loss (Test Loss): 0.49 (0.47). Train Acc (Test Acc): 0.84 (0.83)\n",
      "Generation # 8000. Train Loss (Test Loss): 0.44 (0.47). Train Acc (Test Acc): 0.86 (0.83)\n",
      "Generation # 8500. Train Loss (Test Loss): 0.43 (0.47). Train Acc (Test Acc): 0.87 (0.83)\n",
      "Generation # 9000. Train Loss (Test Loss): 0.46 (0.47). Train Acc (Test Acc): 0.82 (0.84)\n",
      "Generation # 9500. Train Loss (Test Loss): 0.45 (0.47). Train Acc (Test Acc): 0.84 (0.84)\n",
      "Generation # 10000. Train Loss (Test Loss): 0.42 (0.47). Train Acc (Test Acc): 0.88 (0.84)\n"
     ]
    }
   ],
   "source": [
    "train_loss = []\n",
    "test_loss = []\n",
    "train_acc = []\n",
    "test_acc = []\n",
    "i_data = []\n",
    "\n",
    "for i in range(10000):\n",
    "    rand_index = np.random.choice(texts_train.shape[0], size=batch_size)\n",
    "    rand_x = texts_train[rand_index].todense()\n",
    "    rand_y = np.transpose([target_train[rand_index]])\n",
    "    \n",
    "    fd = {\n",
    "        x_data: rand_x,\n",
    "        y_target: rand_y,\n",
    "    }\n",
    "    sess.run(train_step, feed_dict=fd)\n",
    "    \n",
    "    if (i+1)%100 == 0:\n",
    "        i_data.append(i+1)\n",
    "        train_loss_temp = sess.run(loss, feed_dict=fd)\n",
    "        train_loss.append(train_loss_temp)\n",
    "        \n",
    "        train_acc_temp = sess.run(accuracy, feed_dict=fd)\n",
    "        train_acc.append(train_acc_temp)\n",
    "        \n",
    "        test_fd = {\n",
    "            x_data: texts_test.todense(),\n",
    "            y_target: np.transpose([target_test]),\n",
    "        }\n",
    "        test_loss_temp = sess.run(loss, feed_dict=test_fd)\n",
    "        test_loss.append(test_loss_temp)\n",
    "        \n",
    "        test_acc_temp = sess.run(accuracy, feed_dict=test_fd)\n",
    "        test_acc.append(test_acc_temp)\n",
    "        \n",
    "        if (i+1)%500 == 0:\n",
    "            acc_and_loss = [i+1, train_loss_temp, test_loss_temp, train_acc_temp, test_acc_temp]\n",
    "            acc_and_loss = [np.round(x, 2) for x in acc_and_loss]\n",
    "            print('Generation # {}. Train Loss (Test Loss): {:.2f} ({:.2f}). Train Acc (Test Acc): {:.2f} ({:.2f})'.format(*acc_and_loss))"
   ]
  },
  {
   "cell_type": "code",
   "execution_count": 14,
   "metadata": {},
   "outputs": [
    {
     "data": {
      "image/png": "[encoded data removed]",
      "text/plain": [
       "<matplotlib.figure.Figure at 0x11bb15c50>"
      ]
     },
     "metadata": {},
     "output_type": "display_data"
    }
   ],
   "source": [
    "plt.plot(i_data, train_loss, 'k-', label='Train Loss')\n",
    "plt.plot(i_data, test_loss, 'r--', label='Test Loss', linewidth=4)\n",
    "plt.title('Cross Entropy Loss per Generation')\n",
    "plt.xlabel('Generation')\n",
    "plt.ylabel('Cross Entropy Loss')\n",
    "plt.legend(loc='upper right')\n",
    "plt.show()"
   ]
  },
  {
   "cell_type": "code",
   "execution_count": 15,
   "metadata": {},
   "outputs": [
    {
     "data": {
      "image/png": "[encoded data removed]",
      "text/plain": [
       "<matplotlib.figure.Figure at 0x11bab3e10>"
      ]
     },
     "metadata": {},
     "output_type": "display_data"
    }
   ],
   "source": [
    "plt.plot(i_data, train_acc, 'k-', label='Train Set Accuracy')\n",
    "plt.plot(i_data, test_acc, 'r--', label='Test Set Accuracy', linewidth=4)\n",
    "plt.title('Train and Test Accuracy')\n",
    "plt.xlabel('Generation')\n",
    "plt.ylabel('Accuracy')\n",
    "plt.legend(loc='lower right')\n",
    "plt.show()"
   ]
  },
  {
   "cell_type": "code",
   "execution_count": null,
   "metadata": {},
   "outputs": [],
   "source": []
  }
 ],
 "metadata": {
  "kernelspec": {
   "display_name": "Python 3",
   "language": "python",
   "name": "python3"
  },
  "language_info": {
   "codemirror_mode": {
    "name": "ipython",
    "version": 3
   },
   "file_extension": ".py",
   "mimetype": "text/x-python",
   "name": "python",
   "nbconvert_exporter": "python",
   "pygments_lexer": "ipython3",
   "version": "3.6.3"
  }
 },
 "nbformat": 4,
 "nbformat_minor": 2
}
