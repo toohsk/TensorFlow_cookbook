{
 "cells": [
  {
   "cell_type": "code",
   "execution_count": 1,
   "metadata": {},
   "outputs": [
    {
     "name": "stderr",
     "output_type": "stream",
     "text": [
      "/Users/atsushi.hara/.anyenv/envs/pyenv/versions/anaconda3-5.0.1/lib/python3.6/importlib/_bootstrap.py:219: RuntimeWarning: compiletime version 3.5 of module 'tensorflow.python.framework.fast_tensor_util' does not match runtime version 3.6\n",
      "  return f(*args, **kwds)\n",
      "/Users/atsushi.hara/.anyenv/envs/pyenv/versions/anaconda3-5.0.1/lib/python3.6/site-packages/h5py/__init__.py:34: FutureWarning: Conversion of the second argument of issubdtype from `float` to `np.floating` is deprecated. In future, it will be treated as `np.float64 == np.dtype(float).type`.\n",
      "  from ._conv import register_converters as _register_converters\n"
     ]
    }
   ],
   "source": [
    "import matplotlib.pyplot as plt\n",
    "import numpy as np\n",
    "import tensorflow as tf\n",
    "from sklearn import datasets"
   ]
  },
  {
   "cell_type": "code",
   "execution_count": 2,
   "metadata": {},
   "outputs": [],
   "source": [
    "sess = tf.Session()"
   ]
  },
  {
   "cell_type": "code",
   "execution_count": 3,
   "metadata": {},
   "outputs": [],
   "source": [
    "# Load iris dataset\n",
    "iris = datasets.load_iris()\n",
    "\n",
    "x_vals = np.array([x[3] for x in iris.data])\n",
    "y_vals = np.array([y[0] for y in iris.data])"
   ]
  },
  {
   "cell_type": "code",
   "execution_count": 4,
   "metadata": {},
   "outputs": [],
   "source": [
    "# Parameters\n",
    "batch_size = 25\n",
    "learning_rate = 0.1\n",
    "iterations = 200"
   ]
  },
  {
   "cell_type": "code",
   "execution_count": 5,
   "metadata": {},
   "outputs": [
    {
     "name": "stdout",
     "output_type": "stream",
     "text": [
      "Step #25 A = [[2.7930877]], b = [[0.99924]]\n",
      "Step #50 A = [[2.7306876]], b = [[1.92324]]\n",
      "Step #75 A = [[2.332288]], b = [[2.6712399]]\n",
      "Step #100 A = [[1.8318877]], b = [[3.2832403]]\n",
      "Step #125 A = [[1.5094877]], b = [[3.9352407]]\n",
      "Step #150 A = [[1.1114875]], b = [[4.411241]]\n",
      "Step #175 A = [[0.89428747]], b = [[4.70324]]\n",
      "Step #200 A = [[0.7834873]], b = [[4.75524]]\n"
     ]
    }
   ],
   "source": [
    "x_data = tf.placeholder(shape=[None, 1], dtype=tf.float32)\n",
    "y_target = tf.placeholder(shape=[None, 1], dtype=tf.float32)\n",
    "A = tf.Variable(tf.random_normal(shape=[1, 1]))\n",
    "b = tf.Variable(tf.random_normal(shape=[1, 1]))\n",
    "model_output = tf.add(tf.matmul(x_data, A), b)\n",
    "\n",
    "# L1 loss function\n",
    "loss_l1 = tf.reduce_mean(tf.abs(y_target - model_output))\n",
    "\n",
    "init = tf.global_variables_initializer()\n",
    "sess.run(init)\n",
    "\n",
    "opt_l1 = tf.train.GradientDescentOptimizer(learning_rate=learning_rate)\n",
    "train_step_l1 = opt_l1.minimize(loss_l1)\n",
    "\n",
    "loss_vec_l1 = []\n",
    "\n",
    "for i in range(iterations):\n",
    "    rand_index = np.random.choice(len(x_vals), size=batch_size)\n",
    "    rand_x = np.transpose([x_vals[rand_index]])\n",
    "    rand_y = np.transpose([y_vals[rand_index]])\n",
    "    fd = {\n",
    "        x_data: rand_x,\n",
    "        y_target: rand_y\n",
    "    }\n",
    "    sess.run(train_step_l1, feed_dict=fd)\n",
    "    temp_loss_l1 = sess.run(loss_l1, feed_dict=fd)\n",
    "    loss_vec_l1.append(temp_loss_l1)\n",
    "    \n",
    "    if (i+1)%25==0:\n",
    "        print('Step #{} A = {}, b = {}'.format((i+1), sess.run(A), sess.run(b)))"
   ]
  },
  {
   "cell_type": "code",
   "execution_count": 6,
   "metadata": {},
   "outputs": [],
   "source": [
    "from tensorflow.python.framework import ops\n",
    "ops.reset_default_graph()\n",
    "sess = tf.Session()"
   ]
  },
  {
   "cell_type": "code",
   "execution_count": 7,
   "metadata": {},
   "outputs": [
    {
     "name": "stdout",
     "output_type": "stream",
     "text": [
      "Step #25 A = [[1.4237196]], b = [[4.068041]]\n",
      "Step #50 A = [[1.1718546]], b = [[4.559757]]\n",
      "Step #75 A = [[0.9665173]], b = [[4.7116184]]\n",
      "Step #100 A = [[0.925829]], b = [[4.7771697]]\n",
      "Step #125 A = [[0.92632073]], b = [[4.758811]]\n",
      "Step #150 A = [[0.8974301]], b = [[4.7593064]]\n",
      "Step #175 A = [[0.8765196]], b = [[4.764374]]\n",
      "Step #200 A = [[0.86002266]], b = [[4.7651534]]\n"
     ]
    }
   ],
   "source": [
    "x_data = tf.placeholder(shape=[None, 1], dtype=tf.float32)\n",
    "y_target = tf.placeholder(shape=[None, 1], dtype=tf.float32)\n",
    "A = tf.Variable(tf.random_normal(shape=[1, 1]))\n",
    "b = tf.Variable(tf.random_normal(shape=[1, 1]))\n",
    "model_output = tf.add(tf.matmul(x_data, A), b)\n",
    "\n",
    "# L1 loss function\n",
    "loss_l2 = tf.reduce_mean(tf.square(y_target - model_output))\n",
    "\n",
    "init = tf.global_variables_initializer()\n",
    "sess.run(init)\n",
    "\n",
    "opt_l2 = tf.train.GradientDescentOptimizer(learning_rate=learning_rate)\n",
    "train_step_l2 = opt_l2.minimize(loss_l2)\n",
    "\n",
    "loss_vec_l2 = []\n",
    "\n",
    "for i in range(iterations):\n",
    "    rand_index = np.random.choice(len(x_vals), size=batch_size)\n",
    "    rand_x = np.transpose([x_vals[rand_index]])\n",
    "    rand_y = np.transpose([y_vals[rand_index]])\n",
    "    fd = {\n",
    "        x_data: rand_x,\n",
    "        y_target: rand_y\n",
    "    }\n",
    "    sess.run(train_step_l2, feed_dict=fd)\n",
    "    temp_loss_l2 = sess.run(loss_l2, feed_dict=fd)\n",
    "    loss_vec_l2.append(temp_loss_l2)\n",
    "    \n",
    "    if (i+1)%25==0:\n",
    "        print('Step #{} A = {}, b = {}'.format((i+1), sess.run(A), sess.run(b)))"
   ]
  },
  {
   "cell_type": "code",
   "execution_count": 8,
   "metadata": {},
   "outputs": [
    {
     "data": {
      "image/png": "[encoded data removed]",
      "text/plain": [
       "<matplotlib.figure.Figure at 0x1a1ac62fd0>"
      ]
     },
     "metadata": {},
     "output_type": "display_data"
    }
   ],
   "source": [
    "plt.plot(loss_vec_l1, 'k-', label='L1 Loss')\n",
    "plt.plot(loss_vec_l2, 'r--', label='L2 Loss')\n",
    "\n",
    "plt.title('L1 and L2 Loss per Generation')\n",
    "plt.xlabel('Generation')\n",
    "plt.ylabel('L1 Loss')\n",
    "plt.legend(loc='upper right')\n",
    "\n",
    "plt.show()"
   ]
  },
  {
   "cell_type": "code",
   "execution_count": null,
   "metadata": {},
   "outputs": [],
   "source": []
  }
 ],
 "metadata": {
  "kernelspec": {
   "display_name": "Python 3",
   "language": "python",
   "name": "python3"
  },
  "language_info": {
   "codemirror_mode": {
    "name": "ipython",
    "version": 3
   },
   "file_extension": ".py",
   "mimetype": "text/x-python",
   "name": "python",
   "nbconvert_exporter": "python",
   "pygments_lexer": "ipython3",
   "version": "3.6.3"
  }
 },
 "nbformat": 4,
 "nbformat_minor": 2
}
