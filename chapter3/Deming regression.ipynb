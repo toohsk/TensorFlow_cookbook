{
 "cells": [
  {
   "cell_type": "code",
   "execution_count": 1,
   "metadata": {},
   "outputs": [
    {
     "name": "stderr",
     "output_type": "stream",
     "text": [
      "/Users/atsushi.hara/.anyenv/envs/pyenv/versions/anaconda3-5.0.1/lib/python3.6/importlib/_bootstrap.py:219: RuntimeWarning: compiletime version 3.5 of module 'tensorflow.python.framework.fast_tensor_util' does not match runtime version 3.6\n",
      "  return f(*args, **kwds)\n",
      "/Users/atsushi.hara/.anyenv/envs/pyenv/versions/anaconda3-5.0.1/lib/python3.6/site-packages/h5py/__init__.py:34: FutureWarning: Conversion of the second argument of issubdtype from `float` to `np.floating` is deprecated. In future, it will be treated as `np.float64 == np.dtype(float).type`.\n",
      "  from ._conv import register_converters as _register_converters\n"
     ]
    }
   ],
   "source": [
    "import matplotlib.pyplot as plt\n",
    "import numpy as np\n",
    "import tensorflow as tf\n",
    "from sklearn import datasets"
   ]
  },
  {
   "cell_type": "code",
   "execution_count": 2,
   "metadata": {},
   "outputs": [],
   "source": [
    "sess = tf.Session()"
   ]
  },
  {
   "cell_type": "code",
   "execution_count": 3,
   "metadata": {},
   "outputs": [],
   "source": [
    "iris = datasets.load_iris()\n",
    "x_vals = np.array([x[3] for x in iris.data])\n",
    "y_vals = np.array([y[0] for y in iris.data])"
   ]
  },
  {
   "cell_type": "code",
   "execution_count": 4,
   "metadata": {},
   "outputs": [],
   "source": [
    "batch_size = 50\n",
    "learning_rate = 0.25"
   ]
  },
  {
   "cell_type": "code",
   "execution_count": 5,
   "metadata": {},
   "outputs": [],
   "source": [
    "x_data = tf.placeholder(shape=[None, 1], dtype=tf.float32)\n",
    "y_target = tf.placeholder(shape=[None, 1], dtype=tf.float32)\n",
    "A = tf.Variable(tf.random_normal(shape=[1,1]))\n",
    "b = tf.Variable(tf.random_normal(shape=[1,1]))\n",
    "model_output = tf.add(tf.matmul(x_data, A), b)"
   ]
  },
  {
   "cell_type": "code",
   "execution_count": 6,
   "metadata": {},
   "outputs": [],
   "source": [
    "demming_numerator = tf.abs(tf.subtract(y_target, tf.add(tf.matmul(x_data, A), b)))\n",
    "demming_denominator = tf.sqrt(tf.add(tf.square(A), 1))\n",
    "\n",
    "loss = tf.reduce_mean(tf.truediv(demming_numerator, demming_denominator))"
   ]
  },
  {
   "cell_type": "code",
   "execution_count": 7,
   "metadata": {},
   "outputs": [],
   "source": [
    "init = tf.global_variables_initializer()\n",
    "sess.run(init)\n",
    "\n",
    "optimize = tf.train.GradientDescentOptimizer(learning_rate=learning_rate)\n",
    "train_step = optimize.minimize(loss)"
   ]
  },
  {
   "cell_type": "code",
   "execution_count": 8,
   "metadata": {},
   "outputs": [
    {
     "name": "stdout",
     "output_type": "stream",
     "text": [
      "Step #100 A=[[3.3387365]] b=[[1.3705893]]\n",
      "Loss = 0.3975529074668884\n",
      "Step #200 A=[[2.853079]] b=[[2.0524113]]\n",
      "Loss = 0.43560072779655457\n",
      "Step #300 A=[[2.2808783]] b=[[2.8724904]]\n",
      "Loss = 0.37388062477111816\n",
      "Step #400 A=[[1.3744183]] b=[[4.0788245]]\n",
      "Loss = 0.32610347867012024\n",
      "Step #500 A=[[1.0589874]] b=[[4.561884]]\n",
      "Loss = 0.2872658967971802\n",
      "Step #600 A=[[1.0233291]] b=[[4.580726]]\n",
      "Loss = 0.28909850120544434\n",
      "Step #700 A=[[1.0647585]] b=[[4.5622153]]\n",
      "Loss = 0.29714450240135193\n",
      "Step #800 A=[[0.931997]] b=[[4.68612]]\n",
      "Loss = 0.2171696126461029\n",
      "Step #900 A=[[1.0954757]] b=[[4.641025]]\n",
      "Loss = 0.2371606081724167\n",
      "Step #1000 A=[[1.0645778]] b=[[4.574062]]\n",
      "Loss = 0.29238036274909973\n",
      "Step #1100 A=[[0.99114084]] b=[[4.622922]]\n",
      "Loss = 0.2977540194988251\n",
      "Step #1200 A=[[0.9843126]] b=[[4.659387]]\n",
      "Loss = 0.21062655746936798\n",
      "Step #1300 A=[[0.95603454]] b=[[4.5894766]]\n",
      "Loss = 0.2543197274208069\n",
      "Step #1400 A=[[1.0233027]] b=[[4.6036468]]\n",
      "Loss = 0.24973337352275848\n",
      "Step #1500 A=[[1.0067434]] b=[[4.6845684]]\n",
      "Loss = 0.18798519670963287\n"
     ]
    }
   ],
   "source": [
    "loss_vec = []\n",
    "\n",
    "for i in range(1500):\n",
    "    rand_index = np.random.choice(len(x_vals), size=batch_size)\n",
    "    rand_x = np.transpose([x_vals[rand_index]])\n",
    "    rand_y = np.transpose([y_vals[rand_index]])\n",
    "    fd = {\n",
    "        x_data: rand_x,\n",
    "        y_target: rand_y,\n",
    "    }\n",
    "    sess.run(train_step, feed_dict=fd)\n",
    "    \n",
    "    temp_loss = sess.run(loss, feed_dict=fd)\n",
    "    loss_vec.append(temp_loss)\n",
    "    \n",
    "    if (i+1)%100 == 0:\n",
    "        print('Step #{} A={} b={}'.format(i+1, sess.run(A), sess.run(b)))\n",
    "        print('Loss = {}'.format(temp_loss))"
   ]
  },
  {
   "cell_type": "code",
   "execution_count": 9,
   "metadata": {},
   "outputs": [],
   "source": [
    "[slope] = sess.run(A)\n",
    "[y_intercept] = sess.run(b)\n",
    "\n",
    "best_fit = []\n",
    "for i in x_vals:\n",
    "    best_fit.append(slope*i + y_intercept)"
   ]
  },
  {
   "cell_type": "code",
   "execution_count": 10,
   "metadata": {},
   "outputs": [
    {
     "data": {
      "image/png": "[encoded data removed]",
      "text/plain": [
       "<matplotlib.figure.Figure at 0x1a1a0b08d0>"
      ]
     },
     "metadata": {},
     "output_type": "display_data"
    }
   ],
   "source": [
    "plt.plot(x_vals, y_vals, 'o', label='Data points')\n",
    "plt.plot(x_vals, best_fit, 'r-', label='Best fit line', linewidth=3)\n",
    "plt.legend(loc='upper left')\n",
    "plt.title('Sepal Length vs Pedal Width')\n",
    "plt.xlabel('Pedal Width')\n",
    "plt.ylabel('Sepal Length')\n",
    "plt.show()\n"
   ]
  },
  {
   "cell_type": "code",
   "execution_count": null,
   "metadata": {},
   "outputs": [],
   "source": []
  }
 ],
 "metadata": {
  "kernelspec": {
   "display_name": "Python 3",
   "language": "python",
   "name": "python3"
  },
  "language_info": {
   "codemirror_mode": {
    "name": "ipython",
    "version": 3
   },
   "file_extension": ".py",
   "mimetype": "text/x-python",
   "name": "python",
   "nbconvert_exporter": "python",
   "pygments_lexer": "ipython3",
   "version": "3.6.3"
  }
 },
 "nbformat": 4,
 "nbformat_minor": 2
}
